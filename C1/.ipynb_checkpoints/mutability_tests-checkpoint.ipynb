{
 "cells": [
  {
   "cell_type": "markdown",
   "id": "fb171cf4-2d3a-4224-833d-021d8b08037e",
   "metadata": {},
   "source": [
    "# Testing for Mutability"
   ]
  },
  {
   "cell_type": "markdown",
   "id": "3f503815-e123-4cd4-bffe-523f14ca6cf4",
   "metadata": {},
   "source": [
    "## int\n",
    "---"
   ]
  },
  {
   "cell_type": "code",
   "execution_count": 5,
   "id": "12e73586-dd09-4d54-9dd9-210a6214fe1c",
   "metadata": {},
   "outputs": [
    {
     "name": "stdout",
     "output_type": "stream",
     "text": [
      "BEFORE \n",
      "x = 5 \n",
      "Location: 9771944\n"
     ]
    },
    {
     "ename": "TypeError",
     "evalue": "'int' object does not support item assignment",
     "output_type": "error",
     "traceback": [
      "\u001b[0;31m---------------------------------------------------------------------------\u001b[0m",
      "\u001b[0;31mTypeError\u001b[0m                                 Traceback (most recent call last)",
      "Cell \u001b[0;32mIn[5], line 8\u001b[0m\n\u001b[1;32m      5\u001b[0m \u001b[38;5;28mprint\u001b[39m(\u001b[38;5;124m'\u001b[39m\u001b[38;5;124mBEFORE\u001b[39m\u001b[38;5;124m'\u001b[39m, \u001b[38;5;124m'\u001b[39m\u001b[38;5;130;01m\\n\u001b[39;00m\u001b[38;5;124mx =\u001b[39m\u001b[38;5;124m'\u001b[39m, x, \u001b[38;5;124m'\u001b[39m\u001b[38;5;130;01m\\n\u001b[39;00m\u001b[38;5;124mLocation:\u001b[39m\u001b[38;5;124m'\u001b[39m, loc1)\n\u001b[1;32m      7\u001b[0m \u001b[38;5;66;03m# Re-assign x below to check for mutability\u001b[39;00m\n\u001b[0;32m----> 8\u001b[0m x[\u001b[38;5;241m0\u001b[39m] \u001b[38;5;241m=\u001b[39m \u001b[38;5;241m2\u001b[39m\n\u001b[1;32m     10\u001b[0m loc2 \u001b[38;5;241m=\u001b[39m \u001b[38;5;28mid\u001b[39m(x)\n\u001b[1;32m     11\u001b[0m \u001b[38;5;28mprint\u001b[39m(\u001b[38;5;124m'\u001b[39m\u001b[38;5;130;01m\\n\u001b[39;00m\u001b[38;5;124mAFTER\u001b[39m\u001b[38;5;124m'\u001b[39m, \u001b[38;5;124m'\u001b[39m\u001b[38;5;130;01m\\n\u001b[39;00m\u001b[38;5;124mx =\u001b[39m\u001b[38;5;124m'\u001b[39m, x, \u001b[38;5;124m'\u001b[39m\u001b[38;5;130;01m\\n\u001b[39;00m\u001b[38;5;124mLocation:\u001b[39m\u001b[38;5;124m'\u001b[39m, loc2)\n",
      "\u001b[0;31mTypeError\u001b[0m: 'int' object does not support item assignment"
     ]
    }
   ],
   "source": [
    "# Assign the variable x below with an example of some data type\n",
    "x = 5\n",
    "\n",
    "loc1 = id(x)\n",
    "print('BEFORE', '\\nx =', x, '\\nLocation:', loc1)\n",
    "\n",
    "# Re-assign x below to check for mutability\n",
    "x[0] = 2\n",
    "\n",
    "loc2 = id(x)\n",
    "print('\\nAFTER', '\\nx =', x, '\\nLocation:', loc2)\n",
    "\n",
    "if(loc1 == loc2):\n",
    "    print('\\nlocation',loc1,'matches location',loc2)\n",
    "    print(type(x), 'is mutable')\n",
    "else:\n",
    "    print(type(x), 'is immutable')"
   ]
  },
  {
   "cell_type": "markdown",
   "id": "e4f13cdf-0c20-4d33-be32-3a83ae86e624",
   "metadata": {},
   "source": [
    "# Testing"
   ]
  },
  {
   "cell_type": "code",
   "execution_count": null,
   "id": "021d1d8f-ab61-4a71-adcb-832c74ed70b8",
   "metadata": {},
   "outputs": [],
   "source": []
  }
 ],
 "metadata": {
  "kernelspec": {
   "display_name": "Python 3 (ipykernel)",
   "language": "python",
   "name": "python3"
  },
  "language_info": {
   "codemirror_mode": {
    "name": "ipython",
    "version": 3
   },
   "file_extension": ".py",
   "mimetype": "text/x-python",
   "name": "python",
   "nbconvert_exporter": "python",
   "pygments_lexer": "ipython3",
   "version": "3.12.4"
  }
 },
 "nbformat": 4,
 "nbformat_minor": 5
}
